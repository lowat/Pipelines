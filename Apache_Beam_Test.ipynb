{
  "nbformat": 4,
  "nbformat_minor": 0,
  "metadata": {
    "colab": {
      "provenance": [],
      "authorship_tag": "ABX9TyPaCaY6S+KMtNBRcdr7mo4i",
      "include_colab_link": true
    },
    "kernelspec": {
      "name": "python3",
      "display_name": "Python 3"
    },
    "language_info": {
      "name": "python"
    }
  },
  "cells": [
    {
      "cell_type": "markdown",
      "metadata": {
        "id": "view-in-github",
        "colab_type": "text"
      },
      "source": [
        "<a href=\"https://colab.research.google.com/github/lowat/Pipelines/blob/main/Apache_Beam_Test.ipynb\" target=\"_parent\"><img src=\"https://colab.research.google.com/assets/colab-badge.svg\" alt=\"Open In Colab\"/></a>"
      ]
    },
    {
      "cell_type": "markdown",
      "source": [
        "\n",
        "# First Beam Pipeline\n"
      ],
      "metadata": {
        "id": "ku4DQAR8tk4Z"
      }
    },
    {
      "cell_type": "code",
      "source": [
        "# Ensure apache beam is installed\n",
        "# !pip3 install apache-beam"
      ],
      "metadata": {
        "id": "68jAE_Kkr4wW"
      },
      "execution_count": null,
      "outputs": []
    },
    {
      "cell_type": "code",
      "source": [
        "import apache_beam as beam\n",
        "from apache_beam import Create, Map\n",
        "\n",
        "p1 = beam.Pipeline()\n",
        "findCube = (p1 | \"Create Element\" >> Create(range(10))| \"Find Cube\" >> Map(lambda x: x**3) | \"Print\" >> Map(print))\n",
        "p1.run()"
      ],
      "metadata": {
        "colab": {
          "base_uri": "https://localhost:8080/"
        },
        "id": "P_sVePe3yKOV",
        "outputId": "04fbb866-10bd-42d7-ae19-6be60783143c"
      },
      "execution_count": 3,
      "outputs": [
        {
          "output_type": "stream",
          "name": "stdout",
          "text": [
            "0\n",
            "1\n",
            "8\n",
            "27\n",
            "64\n",
            "125\n",
            "216\n",
            "343\n",
            "512\n",
            "729\n"
          ]
        },
        {
          "output_type": "execute_result",
          "data": {
            "text/plain": [
              "<apache_beam.runners.portability.fn_api_runner.fn_runner.RunnerResult at 0x79da85dcb8b0>"
            ]
          },
          "metadata": {},
          "execution_count": 3
        }
      ]
    },
    {
      "cell_type": "code",
      "source": [
        "import apache_beam as beam\n",
        "from apache_beam import Create, Map\n",
        "\n",
        "p1 = beam.Pipeline()\n",
        "findCube = (p1 | \"Create Element\" >> Create([100, 200, 300])| \"Find Cube\" >> Map(lambda x: x**3) | \"Print\" >> Map(print))\n",
        "p1.run()"
      ],
      "metadata": {
        "colab": {
          "base_uri": "https://localhost:8080/"
        },
        "id": "zlsbsuV40LBb",
        "outputId": "61763f32-e699-40a9-fc3a-e04252a97c0f"
      },
      "execution_count": 4,
      "outputs": [
        {
          "output_type": "stream",
          "name": "stdout",
          "text": [
            "1000000\n",
            "8000000\n",
            "27000000\n"
          ]
        },
        {
          "output_type": "execute_result",
          "data": {
            "text/plain": [
              "<apache_beam.runners.portability.fn_api_runner.fn_runner.RunnerResult at 0x79dad021d7e0>"
            ]
          },
          "metadata": {},
          "execution_count": 4
        }
      ]
    },
    {
      "cell_type": "code",
      "source": [
        "import apache_beam as beam\n",
        "from apache_beam import Create, Map\n",
        "\n",
        "p1 = beam.Pipeline()\n",
        "findCube = (p1 | \"Create Element\" >> Create([\"cat\", \"dog\"])| \"Find Cube\" >> Map(lambda x: x.upper()) | \"Print\" >> Map(print))\n",
        "p1.run()"
      ],
      "metadata": {
        "colab": {
          "base_uri": "https://localhost:8080/"
        },
        "id": "obVtyaIo0R3f",
        "outputId": "a8f4bd45-906a-4b8c-9896-a5e1123af93a"
      },
      "execution_count": 5,
      "outputs": [
        {
          "output_type": "stream",
          "name": "stdout",
          "text": [
            "CAT\n",
            "DOG\n"
          ]
        },
        {
          "output_type": "execute_result",
          "data": {
            "text/plain": [
              "<apache_beam.runners.portability.fn_api_runner.fn_runner.RunnerResult at 0x79da85f850f0>"
            ]
          },
          "metadata": {},
          "execution_count": 5
        }
      ]
    },
    {
      "cell_type": "code",
      "source": [
        "import apache_beam as beam\n",
        "from apache_beam import Create, Map\n",
        "\n",
        "p1 = beam.Pipeline()\n",
        "findCube = (p1 | \"Create Element\" >> Create({\"foo\":\"bar\", \"hello\":\"world\"})| \"Find Cube\" >> Map(lambda item: f\"'{item[1]}' is the value for the key '{item[0]}'\") | \"Print\" >> Map(print))\n",
        "p1.run()"
      ],
      "metadata": {
        "colab": {
          "base_uri": "https://localhost:8080/"
        },
        "id": "sZfNvQpp0eSw",
        "outputId": "395250b2-c124-4619-f81e-79db39bcd492"
      },
      "execution_count": 9,
      "outputs": [
        {
          "output_type": "stream",
          "name": "stdout",
          "text": [
            "'bar' is the value for the key 'foo'\n",
            "'world' is the value for the key 'hello'\n"
          ]
        },
        {
          "output_type": "execute_result",
          "data": {
            "text/plain": [
              "<apache_beam.runners.portability.fn_api_runner.fn_runner.RunnerResult at 0x79da7ff02d10>"
            ]
          },
          "metadata": {},
          "execution_count": 9
        }
      ]
    },
    {
      "cell_type": "code",
      "source": [
        "import apache_beam as beam\n",
        "from apache_beam import Create, Map\n",
        "\n",
        "def findCube(element):\n",
        "  return element ** 3\n",
        "\n",
        "p1 = beam.Pipeline()\n",
        "result = (p1 | \"Create Element\" >> Create([100, 200, 300])| \"Find Cube\" >> Map(findCube) | \"Print\" >> Map(print))\n",
        "p1.run()"
      ],
      "metadata": {
        "colab": {
          "base_uri": "https://localhost:8080/"
        },
        "id": "YoARatss5RgF",
        "outputId": "ee27a54f-6a8a-4717-d076-c602b0857fc1"
      },
      "execution_count": 13,
      "outputs": [
        {
          "output_type": "stream",
          "name": "stdout",
          "text": [
            "1000000\n",
            "8000000\n",
            "27000000\n"
          ]
        },
        {
          "output_type": "execute_result",
          "data": {
            "text/plain": [
              "<apache_beam.runners.portability.fn_api_runner.fn_runner.RunnerResult at 0x79da85d90fa0>"
            ]
          },
          "metadata": {},
          "execution_count": 13
        }
      ]
    },
    {
      "cell_type": "markdown",
      "source": [
        "## Flatten"
      ],
      "metadata": {
        "id": "QBzgsQpD2aNF"
      }
    },
    {
      "cell_type": "code",
      "source": [
        "import apache_beam as beam\n",
        "\n",
        "p1 = beam.Pipeline()\n",
        "even = {2,4,6,8}\n",
        "odd = {1,3,5,7,9}\n",
        "\n",
        "even_p1 = p1 | \"Create Even PCollection\" >> beam.Create(even)\n",
        "odd_p1 = p1 | \"Create Odd PCollection\" >> beam.Create(odd)\n",
        "\n",
        "flat_out = (even_p1, odd_p1) | beam.Flatten() | beam.Map(print)\n",
        "p1.run()"
      ],
      "metadata": {
        "colab": {
          "base_uri": "https://localhost:8080/"
        },
        "id": "bgCPJlHZ1Xxj",
        "outputId": "08c1f83a-10c2-4a1d-dbed-54727eb3b357"
      },
      "execution_count": 12,
      "outputs": [
        {
          "output_type": "stream",
          "name": "stdout",
          "text": [
            "1\n",
            "3\n",
            "5\n",
            "7\n",
            "9\n",
            "8\n",
            "2\n",
            "4\n",
            "6\n"
          ]
        },
        {
          "output_type": "execute_result",
          "data": {
            "text/plain": [
              "<apache_beam.runners.portability.fn_api_runner.fn_runner.RunnerResult at 0x79da7d876980>"
            ]
          },
          "metadata": {},
          "execution_count": 12
        }
      ]
    },
    {
      "cell_type": "code",
      "source": [
        "import apache_beam as beam\n",
        "from apache_beam import Create, Map, FlatMap\n",
        "\n",
        "p1 = beam.Pipeline()\n",
        "result = (p1 | \"Create Element\" >> Create([\"foo bar\", \"hello world\"])| \"String Split\" >> FlatMap(str.split) | \"Print\" >> Map(print))\n",
        "p1.run()"
      ],
      "metadata": {
        "colab": {
          "base_uri": "https://localhost:8080/"
        },
        "id": "dp5MDaS85if9",
        "outputId": "48073b05-b21e-41b4-a245-c5ddce58ed6b"
      },
      "execution_count": 15,
      "outputs": [
        {
          "output_type": "stream",
          "name": "stdout",
          "text": [
            "foo\n",
            "bar\n",
            "hello\n",
            "world\n"
          ]
        },
        {
          "output_type": "execute_result",
          "data": {
            "text/plain": [
              "<apache_beam.runners.portability.fn_api_runner.fn_runner.RunnerResult at 0x79da7da53160>"
            ]
          },
          "metadata": {},
          "execution_count": 15
        }
      ]
    },
    {
      "cell_type": "markdown",
      "source": [
        "## Filter"
      ],
      "metadata": {
        "id": "kh3f9-Jg562T"
      }
    },
    {
      "cell_type": "code",
      "source": [
        "import apache_beam as beam\n",
        "from apache_beam import Create, Map, Filter\n",
        "\n",
        "p1 = beam.Pipeline()\n",
        "filter_even = (p1 | \"Create Element\" >> Create(range(20))| \"Filter Even\" >> Filter(lambda x: x%2==0) | \"Print\" >> Map(print))\n",
        "p1.run()"
      ],
      "metadata": {
        "colab": {
          "base_uri": "https://localhost:8080/"
        },
        "id": "BDh9ou3D5_fK",
        "outputId": "f2ef3e69-43bb-47d5-d3a7-be37260c274b"
      },
      "execution_count": 16,
      "outputs": [
        {
          "output_type": "stream",
          "name": "stdout",
          "text": [
            "0\n",
            "2\n",
            "4\n",
            "6\n",
            "8\n",
            "10\n",
            "12\n",
            "14\n",
            "16\n",
            "18\n"
          ]
        },
        {
          "output_type": "execute_result",
          "data": {
            "text/plain": [
              "<apache_beam.runners.portability.fn_api_runner.fn_runner.RunnerResult at 0x79da7d60da80>"
            ]
          },
          "metadata": {},
          "execution_count": 16
        }
      ]
    },
    {
      "cell_type": "code",
      "source": [
        "import apache_beam as beam\n",
        "from apache_beam import Create, Map, Filter\n",
        "\n",
        "p1 = beam.Pipeline()\n",
        "filter_even = (p1 | \"Create Element\" >> Create([\"Hello\", \"World\", \"Hey\"])| \"Filter H\" >> Filter(lambda x: x.startswith(\"H\")) | \"Print\" >> Map(print))\n",
        "p1.run()"
      ],
      "metadata": {
        "colab": {
          "base_uri": "https://localhost:8080/"
        },
        "id": "5HduLiQr6UUE",
        "outputId": "d919fefc-3c21-44a0-ea3b-834c630c4d21"
      },
      "execution_count": 19,
      "outputs": [
        {
          "output_type": "stream",
          "name": "stdout",
          "text": [
            "Hello\n",
            "Hey\n"
          ]
        },
        {
          "output_type": "execute_result",
          "data": {
            "text/plain": [
              "<apache_beam.runners.portability.fn_api_runner.fn_runner.RunnerResult at 0x79da7d80c940>"
            ]
          },
          "metadata": {},
          "execution_count": 19
        }
      ]
    },
    {
      "cell_type": "markdown",
      "source": [
        "## ParDo"
      ],
      "metadata": {
        "id": "8iW4Z9x_6nFG"
      }
    },
    {
      "cell_type": "code",
      "source": [
        "import apache_beam as beam\n",
        "from apache_beam import Create, Map, ParDo, Filter\n",
        "\n",
        "p1 = beam.Pipeline()\n",
        "result = (p1\n",
        "          | \"Create Element\" >> Create([\"foo bar\", \"hello world\"])\n",
        "          | \"Filter H\" >> Filter(lambda x: x.startswith(\"f\"))\n",
        "          | \"String Split\" >> ParDo(str.split)\n",
        "          | \"Print\" >> Map(print))\n",
        "p1.run()"
      ],
      "metadata": {
        "colab": {
          "base_uri": "https://localhost:8080/"
        },
        "id": "zC4XLADX6oOG",
        "outputId": "d44793ae-ae0b-4964-d9bb-5d07cb2f9328"
      },
      "execution_count": 21,
      "outputs": [
        {
          "output_type": "stream",
          "name": "stdout",
          "text": [
            "foo\n",
            "bar\n"
          ]
        },
        {
          "output_type": "execute_result",
          "data": {
            "text/plain": [
              "<apache_beam.runners.portability.fn_api_runner.fn_runner.RunnerResult at 0x79da7d652050>"
            ]
          },
          "metadata": {},
          "execution_count": 21
        }
      ]
    },
    {
      "cell_type": "markdown",
      "source": [
        "## Keys, Values, String"
      ],
      "metadata": {
        "id": "5ZTDZpnT7Zse"
      }
    },
    {
      "cell_type": "code",
      "source": [
        "import apache_beam as beam\n",
        "from apache_beam import Create, Map\n",
        "\n",
        "p1 = beam.Pipeline()\n",
        "findCube = (p1\n",
        "            | \"Create Element\" >> Create({\"foo\":\"bar\", \"hello\":\"world\"})\n",
        "            | \"Find Keys\" >> beam.Keys()\n",
        "            | \"Print\" >> Map(print))\n",
        "p1.run()"
      ],
      "metadata": {
        "colab": {
          "base_uri": "https://localhost:8080/"
        },
        "id": "xm9fooBN7ZbC",
        "outputId": "a5ee3598-7d40-4834-e6af-b60bd218eb0d"
      },
      "execution_count": 22,
      "outputs": [
        {
          "output_type": "stream",
          "name": "stdout",
          "text": [
            "foo\n",
            "hello\n"
          ]
        },
        {
          "output_type": "execute_result",
          "data": {
            "text/plain": [
              "<apache_beam.runners.portability.fn_api_runner.fn_runner.RunnerResult at 0x79da7d6680a0>"
            ]
          },
          "metadata": {},
          "execution_count": 22
        }
      ]
    },
    {
      "cell_type": "code",
      "source": [
        "import apache_beam as beam\n",
        "from apache_beam import Create, Map\n",
        "\n",
        "p1 = beam.Pipeline()\n",
        "findCube = (p1\n",
        "            | \"Create Element\" >> Create({\"foo\":\"bar\", \"hello\":\"world\"})\n",
        "            | \"Find Values\" >> beam.Values()\n",
        "            | \"Print\" >> Map(print))\n",
        "p1.run()"
      ],
      "metadata": {
        "colab": {
          "base_uri": "https://localhost:8080/"
        },
        "id": "5dQel3h87zNb",
        "outputId": "61dac9cf-977e-4e79-a8bc-6c32dd3e35f3"
      },
      "execution_count": 23,
      "outputs": [
        {
          "output_type": "stream",
          "name": "stdout",
          "text": [
            "bar\n",
            "world\n"
          ]
        },
        {
          "output_type": "execute_result",
          "data": {
            "text/plain": [
              "<apache_beam.runners.portability.fn_api_runner.fn_runner.RunnerResult at 0x79da7d82dcc0>"
            ]
          },
          "metadata": {},
          "execution_count": 23
        }
      ]
    },
    {
      "cell_type": "code",
      "source": [
        "import apache_beam as beam\n",
        "from apache_beam import Create, Map\n",
        "\n",
        "p1 = beam.Pipeline()\n",
        "findCube = (p1\n",
        "            | \"Create Element\" >> Create({\"foo\":\"bar\", \"hello\":\"world\"})\n",
        "            #| \"String Display\" >> beam.ToString.Kvs()\n",
        "            | \"String Display\" >> beam.ToString.Element()\n",
        "            | \"Print\" >> Map(print))\n",
        "p1.run()"
      ],
      "metadata": {
        "colab": {
          "base_uri": "https://localhost:8080/"
        },
        "id": "KDnDd9-z7_Ga",
        "outputId": "8088e794-6071-48da-f5ca-a4b1e0cb9edb"
      },
      "execution_count": 25,
      "outputs": [
        {
          "output_type": "stream",
          "name": "stdout",
          "text": [
            "('foo', 'bar')\n",
            "('hello', 'world')\n"
          ]
        },
        {
          "output_type": "execute_result",
          "data": {
            "text/plain": [
              "<apache_beam.runners.portability.fn_api_runner.fn_runner.RunnerResult at 0x79da7d668e80>"
            ]
          },
          "metadata": {},
          "execution_count": 25
        }
      ]
    },
    {
      "cell_type": "markdown",
      "source": [
        "## KVSwap"
      ],
      "metadata": {
        "id": "lllAa-SS8Ne3"
      }
    },
    {
      "cell_type": "code",
      "source": [
        "import apache_beam as beam\n",
        "from apache_beam import Create, Map\n",
        "\n",
        "p1 = beam.Pipeline()\n",
        "findCube = (p1\n",
        "            | \"Create Element\" >> Create({\"foo\":\"bar\", \"hello\":\"world\"})\n",
        "            | \"KV swap\" >> beam.KvSwap()\n",
        "            | \"Print\" >> Map(print))\n",
        "p1.run()"
      ],
      "metadata": {
        "colab": {
          "base_uri": "https://localhost:8080/"
        },
        "id": "KymSTF5h8Rka",
        "outputId": "813f44cf-2848-4bc8-f746-9d99249161b5"
      },
      "execution_count": 26,
      "outputs": [
        {
          "output_type": "stream",
          "name": "stdout",
          "text": [
            "('bar', 'foo')\n",
            "('world', 'hello')\n"
          ]
        },
        {
          "output_type": "execute_result",
          "data": {
            "text/plain": [
              "<apache_beam.runners.portability.fn_api_runner.fn_runner.RunnerResult at 0x79da7d547fa0>"
            ]
          },
          "metadata": {},
          "execution_count": 26
        }
      ]
    },
    {
      "cell_type": "markdown",
      "source": [
        "## Partition"
      ],
      "metadata": {
        "id": "pEBWWqz1TJOi"
      }
    },
    {
      "cell_type": "code",
      "source": [
        "import apache_beam as beam\n",
        "from apache_beam import Create,Map\n",
        "p1 = beam.Pipeline()\n",
        "\n",
        "def isEven(num, no_par):\n",
        "  return 1 if num % 2 == 0 else 0\n",
        "\n",
        "is_even = (p1\n",
        "           | \"Create Element\" >> Create(range(1, 20))\n",
        "           | \"Partition\" >> beam.Partition(isEven, 2)\n",
        "          )\n",
        "\n",
        "is_even[1] | \"Print Even Numbers\" >> Map(print)\n",
        "p1.run()"
      ],
      "metadata": {
        "colab": {
          "base_uri": "https://localhost:8080/"
        },
        "id": "rAI-vOH-TKDD",
        "outputId": "90b2da10-c1bb-455c-ad4e-b7fcad0e7c57"
      },
      "execution_count": 35,
      "outputs": [
        {
          "output_type": "stream",
          "name": "stdout",
          "text": [
            "2\n",
            "4\n",
            "6\n",
            "8\n",
            "10\n",
            "12\n",
            "14\n",
            "16\n",
            "18\n"
          ]
        },
        {
          "output_type": "execute_result",
          "data": {
            "text/plain": [
              "<apache_beam.runners.portability.fn_api_runner.fn_runner.RunnerResult at 0x79da861e7010>"
            ]
          },
          "metadata": {},
          "execution_count": 35
        }
      ]
    },
    {
      "cell_type": "markdown",
      "source": [
        "## Regular Expression"
      ],
      "metadata": {
        "id": "h3Omiz0FVDh5"
      }
    },
    {
      "cell_type": "code",
      "source": [
        "import apache_beam as beam\n",
        "from apache_beam import Create, Map, ParDo, Filter\n",
        "\n",
        "p1 = beam.Pipeline()\n",
        "result = (p1\n",
        "          | \"Create Element\" >> Create([\"1\", \"23\",\"hello\",\"world\"])\n",
        "          | \"Regex\" >> beam.Regex.matches(\"(\\d+)\")\n",
        "          | \"Print\" >> Map(print))\n",
        "p1.run()"
      ],
      "metadata": {
        "colab": {
          "base_uri": "https://localhost:8080/"
        },
        "id": "2AN_EReNVG2O",
        "outputId": "79e08e20-a1d2-4bd4-80cc-034541bea3f5"
      },
      "execution_count": 36,
      "outputs": [
        {
          "output_type": "stream",
          "name": "stdout",
          "text": [
            "1\n",
            "23\n"
          ]
        },
        {
          "output_type": "execute_result",
          "data": {
            "text/plain": [
              "<apache_beam.runners.portability.fn_api_runner.fn_runner.RunnerResult at 0x79da7d80e2f0>"
            ]
          },
          "metadata": {},
          "execution_count": 36
        }
      ]
    },
    {
      "cell_type": "markdown",
      "source": [
        "## Aggregation"
      ],
      "metadata": {
        "id": "aePwf2lFVpcC"
      }
    },
    {
      "cell_type": "code",
      "source": [
        "import apache_beam as beam\n",
        "from apache_beam import Create, Map, ParDo, Filter\n",
        "\n",
        "p1 = beam.Pipeline()\n",
        "result = (p1\n",
        "          | \"Create Element\" >> Create([\"1\", \"23\",\"hello\",\"world\"])\n",
        "          | \"Count\" >> beam.combiners.Count.Globally()\n",
        "          | \"Print\" >> Map(print))\n",
        "p1.run()"
      ],
      "metadata": {
        "colab": {
          "base_uri": "https://localhost:8080/"
        },
        "id": "GtoiZRARVspo",
        "outputId": "c74c8d9a-a405-4108-f870-5c5013c0705d"
      },
      "execution_count": 37,
      "outputs": [
        {
          "output_type": "stream",
          "name": "stdout",
          "text": [
            "4\n"
          ]
        },
        {
          "output_type": "execute_result",
          "data": {
            "text/plain": [
              "<apache_beam.runners.portability.fn_api_runner.fn_runner.RunnerResult at 0x79da7d2b5090>"
            ]
          },
          "metadata": {},
          "execution_count": 37
        }
      ]
    },
    {
      "cell_type": "code",
      "source": [
        "import apache_beam as beam\n",
        "from apache_beam import Create, Map\n",
        "\n",
        "p1 = beam.Pipeline()\n",
        "result = (p1\n",
        "          | \"Create Element\" >> Create([\"1\", \"1\",\"hello\",\"world\"])\n",
        "          | \"Distinct\" >> beam.Distinct()\n",
        "          | \"Print\" >> Map(print))\n",
        "p1.run()"
      ],
      "metadata": {
        "colab": {
          "base_uri": "https://localhost:8080/"
        },
        "id": "Z-yxoIAOV_Yg",
        "outputId": "66383093-e4dd-4988-a7ef-0f26928f13d1"
      },
      "execution_count": 39,
      "outputs": [
        {
          "output_type": "stream",
          "name": "stdout",
          "text": [
            "1\n",
            "hello\n",
            "world\n"
          ]
        },
        {
          "output_type": "execute_result",
          "data": {
            "text/plain": [
              "<apache_beam.runners.portability.fn_api_runner.fn_runner.RunnerResult at 0x79da7d1ee710>"
            ]
          },
          "metadata": {},
          "execution_count": 39
        }
      ]
    },
    {
      "cell_type": "code",
      "source": [
        "import apache_beam as beam\n",
        "from apache_beam import Create, Map\n",
        "\n",
        "p1 = beam.Pipeline()\n",
        "result = (p1\n",
        "          | \"Create Element\" >> Create(range(20))\n",
        "          | \"Fixed Size\" >> beam.combiners.Sample.FixedSizeGlobally(5)\n",
        "          | \"Print\" >> Map(print))\n",
        "p1.run()"
      ],
      "metadata": {
        "colab": {
          "base_uri": "https://localhost:8080/"
        },
        "id": "cMvyvRYiWih-",
        "outputId": "53529fba-85ec-4669-ff44-9ca08b805953"
      },
      "execution_count": 42,
      "outputs": [
        {
          "output_type": "stream",
          "name": "stdout",
          "text": [
            "[13, 3, 5, 16, 1]\n"
          ]
        },
        {
          "output_type": "execute_result",
          "data": {
            "text/plain": [
              "<apache_beam.runners.portability.fn_api_runner.fn_runner.RunnerResult at 0x79da7cd18340>"
            ]
          },
          "metadata": {},
          "execution_count": 42
        }
      ]
    },
    {
      "cell_type": "code",
      "source": [
        "import apache_beam as beam\n",
        "from apache_beam import Create, Map\n",
        "\n",
        "p1 = beam.Pipeline()\n",
        "result = (p1\n",
        "          | \"Create Element\" >> Create(range(20))\n",
        "          | \"Sum\" >> beam.CombineGlobally(sum)\n",
        "          | \"Print\" >> Map(print))\n",
        "p1.run()"
      ],
      "metadata": {
        "colab": {
          "base_uri": "https://localhost:8080/"
        },
        "id": "vdxLsnlwW0HK",
        "outputId": "434f9799-ac9f-4672-f064-6f00d66794b3"
      },
      "execution_count": 43,
      "outputs": [
        {
          "output_type": "stream",
          "name": "stdout",
          "text": [
            "190\n"
          ]
        },
        {
          "output_type": "execute_result",
          "data": {
            "text/plain": [
              "<apache_beam.runners.portability.fn_api_runner.fn_runner.RunnerResult at 0x79da85d904c0>"
            ]
          },
          "metadata": {},
          "execution_count": 43
        }
      ]
    },
    {
      "cell_type": "code",
      "source": [
        "import apache_beam as beam\n",
        "from apache_beam import Create, Map\n",
        "\n",
        "p1 = beam.Pipeline()\n",
        "result = (p1\n",
        "          | \"Create Element\" >> Create(range(20))\n",
        "          | \"Top 2\" >> beam.combiners.Top.Largest(2)\n",
        "          | \"Print\" >> Map(print))\n",
        "p1.run()"
      ],
      "metadata": {
        "colab": {
          "base_uri": "https://localhost:8080/"
        },
        "id": "x1_diuIzXnBL",
        "outputId": "7c03659d-b174-47af-c0fb-37427821f2ae"
      },
      "execution_count": 44,
      "outputs": [
        {
          "output_type": "stream",
          "name": "stdout",
          "text": [
            "[19, 18]\n"
          ]
        },
        {
          "output_type": "execute_result",
          "data": {
            "text/plain": [
              "<apache_beam.runners.portability.fn_api_runner.fn_runner.RunnerResult at 0x79da7cceb8b0>"
            ]
          },
          "metadata": {},
          "execution_count": 44
        }
      ]
    },
    {
      "cell_type": "code",
      "source": [
        "import apache_beam as beam\n",
        "from apache_beam import Create, Map\n",
        "\n",
        "p1 = beam.Pipeline()\n",
        "result = (p1\n",
        "          | \"Create Element\" >> Create([(\"hello\", 1),(\"hello\",4),(\"bye\",7)])\n",
        "          | \"Mean per key\" >> beam.combiners.Mean.PerKey()\n",
        "          | \"Print\" >> Map(print))\n",
        "p1.run()"
      ],
      "metadata": {
        "colab": {
          "base_uri": "https://localhost:8080/"
        },
        "id": "MSkCrFHGX1k2",
        "outputId": "01aa3b7e-efc6-4512-9dce-11e69b1aa1c4"
      },
      "execution_count": 45,
      "outputs": [
        {
          "output_type": "stream",
          "name": "stdout",
          "text": [
            "('hello', 2.5)\n",
            "('bye', 7.0)\n"
          ]
        },
        {
          "output_type": "execute_result",
          "data": {
            "text/plain": [
              "<apache_beam.runners.portability.fn_api_runner.fn_runner.RunnerResult at 0x79da7d1d7ac0>"
            ]
          },
          "metadata": {},
          "execution_count": 45
        }
      ]
    },
    {
      "cell_type": "code",
      "source": [
        "import apache_beam as beam\n",
        "from apache_beam import Create, Map\n",
        "\n",
        "p1 = beam.Pipeline()\n",
        "result = (p1\n",
        "          | \"Create Element\" >> Create([(\"hello\", 1),(\"hello\",4),(\"bye\",7)])\n",
        "          | \"Sum per key\" >> beam.CombinePerKey(sum)\n",
        "          | \"Print\" >> Map(print))\n",
        "p1.run()"
      ],
      "metadata": {
        "colab": {
          "base_uri": "https://localhost:8080/"
        },
        "id": "3zGfUTm8YQEl",
        "outputId": "e29812b7-35c3-4714-a2ac-c50cc911dbf9"
      },
      "execution_count": 46,
      "outputs": [
        {
          "output_type": "stream",
          "name": "stdout",
          "text": [
            "('hello', 5)\n",
            "('bye', 7)\n"
          ]
        },
        {
          "output_type": "execute_result",
          "data": {
            "text/plain": [
              "<apache_beam.runners.portability.fn_api_runner.fn_runner.RunnerResult at 0x79da7cdfe110>"
            ]
          },
          "metadata": {},
          "execution_count": 46
        }
      ]
    }
  ]
}